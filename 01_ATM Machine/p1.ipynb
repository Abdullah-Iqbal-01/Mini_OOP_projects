{
 "cells": [
  {
   "cell_type": "markdown",
   "metadata": {},
   "source": [
    "### **OOP Mini Projects:**\n",
    "\n",
    "1. **Digital ATM Machine Simulation:**\n",
    "   - Implement an ATM system where users can deposit, withdraw, and view balance.\n",
    "   - Add PIN verification using encapsulation."
   ]
  },
  {
   "cell_type": "markdown",
   "metadata": {},
   "source": [
    "## Class 1: Account\n",
    "- This class will handle individual account details and operations."
   ]
  },
  {
   "cell_type": "code",
   "execution_count": 13,
   "metadata": {},
   "outputs": [],
   "source": [
    "class Account:\n",
    "    '''\n",
    "        Attributes:\n",
    "            account_holder: Name of the account holder (string).\n",
    "            account_number: Unique number for the account (integer).\n",
    "            balance: Current balance in the account (float).\n",
    "            pin: A private attribute for the user's PIN (string; use encapsulation).\n",
    "    '''\n",
    "\n",
    "    def __init__(self , account_holder: str , account_number: int , balance: float , pin: str):\n",
    "        self.account_holder = account_holder\n",
    "        self.account_number = account_number\n",
    "        self.__balance = balance\n",
    "        self.__pin = pin\n",
    "\n",
    "    '''\n",
    "    Methods:\n",
    "        verify_pin(self, entered_pin): Check if the entered PIN matches the stored PIN.\n",
    "        deposit(self, amount): Add money to the account balance.\n",
    "        withdraw(self, amount): Deduct money from the balance if sufficient funds are available.\n",
    "        get_balance(self): Return the current balance (read-only for security). \n",
    "    '''\n",
    "\n",
    "    def verify_pin(self, entered_pin: str) -> bool:\n",
    "        return entered_pin == self.__pin\n",
    "\n",
    "    def deposit(self, amount: float) -> str:\n",
    "        if amount > 0:\n",
    "            self.__balance += amount\n",
    "            return \"Deposit successful.\"\n",
    "        return \"Deposit amount must be positive.\"\n",
    "\n",
    "    def withdraw(self, amount: float) -> str:\n",
    "        if amount <= 0:\n",
    "            return \"Withdrawal amount must be positive.\"\n",
    "        if amount <= self.__balance:\n",
    "            self.__balance -= amount\n",
    "            return \"Withdrawal successful.\"\n",
    "        if amount > self.__balance:\n",
    "            return f'You Account balance is {self.__balance}'\n",
    "        return \"Insufficient funds.\"\n",
    "\n",
    "    def get_balance(self) -> float:\n",
    "        return self.__balance\n",
    "\n",
    "    def __str__(self) -> str:\n",
    "        return f\"Account Holder: {self.account_holder}\\nAccount Number: {self.account_number}\\nBalance: {self.__balance}\"\n",
    "\n",
    "\n"
   ]
  },
  {
   "cell_type": "markdown",
   "metadata": {},
   "source": [
    "## Class 2: ATM\n",
    "- This class will manage overall ATM operations."
   ]
  },
  {
   "cell_type": "code",
   "execution_count": 14,
   "metadata": {},
   "outputs": [],
   "source": [
    "class ATM:\n",
    "\n",
    "    accounts : dict = {}\n",
    "    '''\n",
    "    Attributes:\n",
    "        accounts: A list or dictionary to store all account objects (e.g., {account_number: account_object}).\n",
    "    '''\n",
    "\n",
    "    '''\n",
    "    Methods:\n",
    "    __init__(self): Initialize the ATM with an empty dictionary for accounts.\n",
    "    add_account(self, account): Add an account to the system.\n",
    "    authenticate_user(self, account_number, pin): Verify account existence and PIN.\n",
    "    perform_transaction(self, account_number): Handle user actions (deposit, withdraw, check balance).\n",
    "    display_menu(self): Display transaction options to the user.\n",
    "        '''\n",
    "    def add_account(self, account: Account):\n",
    "            self.accounts[account.account_number] = account\n",
    "\n",
    "    def authenticate_user(self, account_number: int, pin: str) -> bool:\n",
    "        account = self.accounts.get(account_number)\n",
    "        if account and account.verify_pin(pin):\n",
    "            return True\n",
    "        print(\"Authentication failed. Check account number or PIN.\")\n",
    "        return False\n",
    "\n",
    "    def perform_transaction(self, account_number: int):\n",
    "        account = self.accounts.get(account_number)\n",
    "        if not account:\n",
    "            print(\"Invalid account number.\")\n",
    "            return\n",
    "\n",
    "        while True:\n",
    "            self.display_menu()\n",
    "            choice = input(\"Enter your choice: \")\n",
    "\n",
    "            if choice == \"1\":\n",
    "                amount = float(input(\"Enter the amount to deposit: \"))\n",
    "                print(account.deposit(amount))\n",
    "\n",
    "            elif choice == \"2\":\n",
    "                amount = float(input(\"Enter the amount to withdraw: \"))\n",
    "                print(account.withdraw(amount))\n",
    "\n",
    "            elif choice == \"3\":\n",
    "                print(f\"Balance: {account.get_balance()}\")\n",
    "\n",
    "            elif choice == \"4\":\n",
    "                print(\"Thank you for using the ATM.\")\n",
    "                break\n",
    "\n",
    "            else:\n",
    "                print(\"Invalid choice. Please try again.\")\n",
    "\n",
    "    def display_menu(self):\n",
    "        print(\"\\nTransaction Menu:\")\n",
    "        print(\"1. Deposit\")\n",
    "        print(\"2. Withdraw\")\n",
    "        print(\"3. Check balance\")\n",
    "        print(\"4. Exit\")\n"
   ]
  },
  {
   "cell_type": "markdown",
   "metadata": {},
   "source": [
    "## Testing"
   ]
  },
  {
   "cell_type": "code",
   "execution_count": 17,
   "metadata": {},
   "outputs": [
    {
     "name": "stdout",
     "output_type": "stream",
     "text": [
      "\n",
      "Transaction Menu:\n",
      "1. Deposit\n",
      "2. Withdraw\n",
      "3. Check balance\n",
      "4. Exit\n",
      "Balance: 1000\n",
      "\n",
      "Transaction Menu:\n",
      "1. Deposit\n",
      "2. Withdraw\n",
      "3. Check balance\n",
      "4. Exit\n",
      "Balance: 1000\n",
      "\n",
      "Transaction Menu:\n",
      "1. Deposit\n",
      "2. Withdraw\n",
      "3. Check balance\n",
      "4. Exit\n",
      "Thank you for using the ATM.\n"
     ]
    }
   ],
   "source": [
    "\n",
    "\n",
    "account1 = Account(\"Abdullah\", 1234, 1000, \"1111\")\n",
    "atm = ATM()\n",
    "atm.add_account(account1)\n",
    "\n",
    "# Authenticate and perform transactions\n",
    "account_number = int(input(\"Enter your account number: \"))\n",
    "pin = input(\"Enter your PIN: \")\n",
    "\n",
    "if atm.authenticate_user(account_number, pin):\n",
    "    atm.perform_transaction(account_number)\n",
    "else:\n",
    "    print(\"Access denied.\")\n"
   ]
  }
 ],
 "metadata": {
  "kernelspec": {
   "display_name": "python12",
   "language": "python",
   "name": "python3"
  },
  "language_info": {
   "codemirror_mode": {
    "name": "ipython",
    "version": 3
   },
   "file_extension": ".py",
   "mimetype": "text/x-python",
   "name": "python",
   "nbconvert_exporter": "python",
   "pygments_lexer": "ipython3",
   "version": "3.12.7"
  }
 },
 "nbformat": 4,
 "nbformat_minor": 2
}
